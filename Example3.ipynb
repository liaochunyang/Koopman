{
 "cells": [
  {
   "cell_type": "markdown",
   "metadata": {},
   "source": [
    "## Analytic Example 3"
   ]
  },
  {
   "cell_type": "code",
   "execution_count": 24,
   "metadata": {},
   "outputs": [],
   "source": [
    "import numpy as np\n",
    "from scipy.linalg import eig\n",
    "import matplotlib.pyplot as plt\n",
    "import cvxpy as cp\n",
    "import time"
   ]
  },
  {
   "cell_type": "code",
   "execution_count": 25,
   "metadata": {},
   "outputs": [
    {
     "name": "stdout",
     "output_type": "stream",
     "text": [
      "2.4999999999999996\n",
      "-1.0000000000000002\n"
     ]
    }
   ],
   "source": [
    "#Define Jacobian matrix E= dF(0)/dz at origin\n",
    "E = np.array([[4/3,7/3],[7/6,1/6]])\n",
    "# compute eigvalues and left eigenvectors of E\n",
    "e,evecL,evecR = eig(E,left=True)\n",
    "# eigenvalues\n",
    "eval1 = e[0].real       # \\lambda_2 = 2.5\n",
    "eval2 = e[1].real       # \\lambda_1 = -1\n",
    "# eigenvectors\n",
    "w1 = np.sqrt(2) * evecL[:,0]\n",
    "w2 = np.sqrt(2) * evecL[:,1]\n",
    "print(eval1)\n",
    "print(eval2)"
   ]
  },
  {
   "cell_type": "code",
   "execution_count": 26,
   "metadata": {},
   "outputs": [],
   "source": [
    "# Define (z_1,z_2) grid\n",
    "npoints = 30\n",
    "x_grid = np.linspace(1.5, 2.5, npoints)\n",
    "y_grid = np.linspace(1.5, 2.5, npoints)\n",
    "\n",
    "X,Y = np.meshgrid(x_grid,y_grid)\n",
    "XY = np.zeros((npoints**2,2))\n",
    "\n",
    "k = 0\n",
    "for i in range(npoints):\n",
    "    for j in range(npoints):\n",
    "        XY[k,:] = np.array([X[i,j],Y[i,j]])\n",
    "        k = k+1\n",
    "\n",
    "\n",
    "# Define test grids\n",
    "n_test = 60\n",
    "x_grid_test = np.linspace(1.5, 2.5, n_test)\n",
    "y_grid_test = np.linspace(1.5, 2.5, n_test)\n",
    "\n",
    "X_test,Y_test = np.meshgrid(x_grid_test,y_grid_test)\n",
    "XY_test = np.zeros((n_test**2,2))\n",
    "\n",
    "k = 0\n",
    "for i in range(n_test):\n",
    "    for j in range(n_test):\n",
    "        XY_test[k,:] = np.array([X_test[i,j],Y_test[i,j]])\n",
    "        k = k+1"
   ]
  },
  {
   "cell_type": "code",
   "execution_count": 27,
   "metadata": {},
   "outputs": [],
   "source": [
    "#Define functions F and G\n",
    "def F(x):\n",
    "    al = 1/(9*x[:,0]**2*x[:,1]**2+6*x[:,0]**2+3*x[:,1]**2+np.cos(x[:,1])+2)\n",
    "    value1 = (7.5*x[:,1]**2+5)*(x[:,0]**3+x[:,0]+np.sin(x[:,1]))+(-x[:,0]+x[:,1]**3+2*x[:,1])*np.cos(x[:,1])\n",
    "    value2 = 2.5*x[:,0]**3+2.5*x[:,0]-(3*x[:,0]**2+1)*(-x[:,0]+x[:,1]**3+2*x[:,1])+2.5*np.sin(x[:,1])\n",
    "    return np.array([al*value1, al*value2]).T\n",
    "\n",
    "# Define the function g using autograd's numpy (jnp)\n",
    "def G(x):\n",
    "    value = np.zeros((len(x),2))\n",
    "    for i in range(len(x)):\n",
    "        value[i,:] = np.dot(E, x[i,:])\n",
    "    value = F(x)-value\n",
    "    return value"
   ]
  },
  {
   "cell_type": "code",
   "execution_count": 28,
   "metadata": {},
   "outputs": [],
   "source": [
    "# define eigenfunctions\n",
    "def phi_2(X):\n",
    "    return X[:,0] - 2*X[:,1] - X[:,1] ** 3\n",
    "\n",
    "def phi_1(X):\n",
    "    return X[:,0] + X[:,0] ** 3 + np.sin(X[:,1])"
   ]
  },
  {
   "cell_type": "code",
   "execution_count": 29,
   "metadata": {},
   "outputs": [],
   "source": [
    "# copute F and G at mesh grids\n",
    "F_val = F(XY)\n",
    "G_val = G(XY)"
   ]
  },
  {
   "cell_type": "markdown",
   "metadata": {},
   "source": [
    "#### Eigenfunction $\\phi_{1}$"
   ]
  },
  {
   "cell_type": "code",
   "execution_count": 34,
   "metadata": {},
   "outputs": [],
   "source": [
    "# Generate random features\n",
    "# number of features\n",
    "N = 100\n",
    "# scaling parameter\n",
    "gamma = 0.01\n",
    "start1 = time.time()\n",
    "# random feature matrix\n",
    "Omega = np.random.normal(0, np.sqrt(2*gamma), size=(2,N) )\n",
    "# random bias\n",
    "random_bias = np.random.uniform(-np.pi, np.pi, size=(N,))\n",
    "# temp matrix\n",
    "A_0 = np.cos(random_bias)\n",
    "B_0 = np.sin(random_bias)\n",
    "# generate amtrix A\n",
    "A = np.zeros((npoints**2+3,N))\n",
    "A[0,:] = A_0                   # h(0) = 0\n",
    "A[1:3,:] = B_0 * Omega         # h'(0) = 0\n",
    "# linear pde\n",
    "A[3:,:] = - F_val @ Omega * np.sin(XY @ Omega + random_bias) - eval1 * np.cos(XY @ Omega + random_bias) \n",
    "\n",
    "# right-hand side\n",
    "y0 = np.zeros((3,1))\n",
    "y1 = np.zeros((npoints**2,1))\n",
    "for i in range(npoints**2):\n",
    "    y1[i] = -G_val[i,:] @ w1\n",
    "y = np.row_stack((y0,y1))\n",
    "\n",
    "# solve optimization problem\n",
    "c = np.linalg.pinv(A) @ y\n",
    "end1 = time.time()"
   ]
  },
  {
   "cell_type": "code",
   "execution_count": 35,
   "metadata": {},
   "outputs": [
    {
     "name": "stdout",
     "output_type": "stream",
     "text": [
      "Average test error is 1.24e-02\n",
      "Relative test error is 8.56e-05\n"
     ]
    }
   ],
   "source": [
    "# estimate non-linear function h at mesh grids\n",
    "K = np.cos(XY_test @ Omega + random_bias)\n",
    "y_test = K@c\n",
    "# estimate eigenfunction\n",
    "phi1_hat = y_test.reshape(n_test,n_test) + w1[0] * X_test + w1[1] * Y_test\n",
    "# compute true eigenfucntion\n",
    "phi1 = phi_1(XY_test).reshape(n_test,n_test)\n",
    "\n",
    "# test error\n",
    "test_error = np.mean( (phi1_hat - phi1) ** 2 )\n",
    "print(f'Average test error is {test_error:.2e}')\n",
    "\n",
    "# relative test error\n",
    "rel_error = np.sum((phi1_hat - phi1) ** 2) / np.sum(phi1**2)\n",
    "print(f'Relative test error is {rel_error:.2e}')"
   ]
  },
  {
   "cell_type": "code",
   "execution_count": 36,
   "metadata": {},
   "outputs": [
    {
     "data": {
      "image/png": "[encoded data removed]",
      "text/plain": [
       "<Figure size 432x288 with 2 Axes>"
      ]
     },
     "metadata": {
      "needs_background": "light"
     },
     "output_type": "display_data"
    },
    {
     "data": {
      "image/png": "[encoded data removed]",
      "text/plain": [
       "<Figure size 432x288 with 2 Axes>"
      ]
     },
     "metadata": {
      "needs_background": "light"
     },
     "output_type": "display_data"
    },
    {
     "data": {
      "image/png": "[encoded data removed]",
      "text/plain": [
       "<Figure size 432x288 with 2 Axes>"
      ]
     },
     "metadata": {
      "needs_background": "light"
     },
     "output_type": "display_data"
    }
   ],
   "source": [
    "# visualization\n",
    "plt.figure(1)\n",
    "im = plt.contourf(X_test,Y_test,phi1_hat, levels=np.linspace(4,20,20),cmap=\"coolwarm\")\n",
    "cbar = plt.colorbar(im, ticks=[6,12,18])\n",
    "cbar.ax.tick_params(labelsize=15)\n",
    "plt.xticks([1.5,2,2.5], fontsize=15)\n",
    "plt.yticks([1.5,2,2.5], fontsize=15)\n",
    "plt.xlabel(r'$x_1$', fontsize=15)\n",
    "plt.ylabel(r'$x_2$', fontsize=15)\n",
    "plt.savefig('eig1.pdf', bbox_inches = 'tight')\n",
    "\n",
    "plt.figure(2)\n",
    "im = plt.contourf(X_test,Y_test,phi1, levels=np.linspace(4,20,20),cmap=\"coolwarm\")\n",
    "cbar = plt.colorbar(im, ticks=[6,12,18])\n",
    "cbar.ax.tick_params(labelsize=15)\n",
    "plt.xticks([1.5,2,2.5], fontsize=15)\n",
    "plt.yticks([1.5,2,2.5], fontsize=15)\n",
    "plt.xlabel(r'$x_1$', fontsize=15)\n",
    "plt.ylabel(r'$x_2$', fontsize=15)\n",
    "plt.savefig('eig1_true.pdf', bbox_inches = 'tight')\n",
    "\n",
    "plt.figure(3)\n",
    "im = plt.contourf(X_test,Y_test,abs(phi1 - phi1_hat),cmap=\"coolwarm\")\n",
    "cbar = plt.colorbar(im,ticks=[0.1,0.2,0.3])\n",
    "cbar.ax.tick_params(labelsize=15)\n",
    "cbar.formatter.set_powerlimits((0, 0))\n",
    "plt.xticks([1.5,2,2.5], fontsize=15)\n",
    "plt.yticks([1.5,2,2.5], fontsize=15)\n",
    "plt.xlabel(r'$x_1$', fontsize=15)\n",
    "plt.ylabel(r'$x_2$', fontsize=15)\n",
    "plt.savefig('eig1_error.pdf', bbox_inches = 'tight')"
   ]
  },
  {
   "cell_type": "markdown",
   "metadata": {},
   "source": [
    "#### Eigenfunction $\\phi_{2}$"
   ]
  },
  {
   "cell_type": "code",
   "execution_count": 37,
   "metadata": {},
   "outputs": [],
   "source": [
    "#Define Jacobian matrix E= dF(0)/dz at origin\n",
    "E = np.array([[4/3,7/3],[7/6,1/6]])\n",
    "# compute eigvalues and left eigenvectors of E\n",
    "e,evecL,evecR = eig(E,left=True)\n",
    "# eigenvalues\n",
    "eval1 = e[0].real\n",
    "eval2 = e[1].real\n",
    "# eigenvectors\n",
    "w1 = evecL[:,0]\n",
    "w2 = -np.sqrt(5) * evecL[:,1]"
   ]
  },
  {
   "cell_type": "code",
   "execution_count": 38,
   "metadata": {},
   "outputs": [],
   "source": [
    "# Generate random features\n",
    "# number of features\n",
    "N = 100\n",
    "# scaling parameter\n",
    "gamma = 0.01\n",
    "# random feature matrix\n",
    "start2 = time.time()\n",
    "Omega = np.random.normal(0, np.sqrt(2*gamma), size=(2,N) )\n",
    "# random bias\n",
    "random_bias = np.random.uniform(-np.pi, np.pi, size=(N,))\n",
    "# temp matrix\n",
    "A_0 = np.cos(random_bias)\n",
    "B_0 = np.sin(random_bias)\n",
    "# generate amtrix A\n",
    "A = np.zeros((npoints**2+3,N))\n",
    "A[0,:] = A_0                   # h(0) = 0\n",
    "A[1:3,:] = B_0 * Omega         # h'(0) = 0\n",
    "# linear pde\n",
    "A[3:,:] = - F_val @ Omega * np.sin(XY @ Omega + random_bias) - eval2 * np.cos(XY @ Omega + random_bias) \n",
    "\n",
    "# right-hand side\n",
    "y0 = np.zeros((3,1))\n",
    "y1 = np.zeros((npoints**2,1))\n",
    "for i in range(npoints**2):\n",
    "    y1[i] = -G_val[i,:] @ w2\n",
    "y = np.row_stack((y0,y1))\n",
    "\n",
    "# solve optimization problem\n",
    "c = np.linalg.pinv(A) @ y\n",
    "end2 = time.time()"
   ]
  },
  {
   "cell_type": "code",
   "execution_count": 39,
   "metadata": {},
   "outputs": [
    {
     "name": "stdout",
     "output_type": "stream",
     "text": [
      "Average test error is 3.92e-07\n",
      "Relative test error is 3.06e-09\n"
     ]
    }
   ],
   "source": [
    "# estimate non-linear function h at mesh grids\n",
    "K = np.cos(XY_test @ Omega + random_bias)\n",
    "y_test = K@c\n",
    "\n",
    "# estimate eigenfunction\n",
    "phi2_hat = y_test.reshape(n_test,n_test) + w2[0] * X_test + w2[1] * Y_test\n",
    "# compute true eigenfucntion\n",
    "phi2 = phi_2(XY_test).reshape(n_test,n_test)\n",
    "\n",
    "# test error\n",
    "test_error = np.mean( (phi2_hat - phi2) ** 2 )\n",
    "print(f'Average test error is {test_error:.2e}')\n",
    "\n",
    "# relative test error\n",
    "rel_error = np.sum((phi2_hat - phi2) ** 2) / np.sum(phi2**2)\n",
    "print(f'Relative test error is {rel_error:.2e}')"
   ]
  },
  {
   "cell_type": "code",
   "execution_count": 41,
   "metadata": {},
   "outputs": [
    {
     "data": {
      "image/png": "[encoded data removed]",
      "text/plain": [
       "<Figure size 432x288 with 2 Axes>"
      ]
     },
     "metadata": {
      "needs_background": "light"
     },
     "output_type": "display_data"
    },
    {
     "data": {
      "image/png": "[encoded data removed]",
      "text/plain": [
       "<Figure size 432x288 with 2 Axes>"
      ]
     },
     "metadata": {
      "needs_background": "light"
     },
     "output_type": "display_data"
    },
    {
     "data": {
      "image/png": "[encoded data removed]",
      "text/plain": [
       "<Figure size 432x288 with 2 Axes>"
      ]
     },
     "metadata": {
      "needs_background": "light"
     },
     "output_type": "display_data"
    }
   ],
   "source": [
    "# visualization\n",
    "plt.figure(1)\n",
    "im = plt.contourf(X_test,Y_test,phi2_hat,levels=np.linspace(-20,-2,20),cmap=\"coolwarm\")\n",
    "cbar = plt.colorbar(im, ticks=[-15,-10,-5])\n",
    "cbar.ax.tick_params(labelsize=15)\n",
    "plt.xticks([1.5,2,2.5], fontsize=15)\n",
    "plt.yticks([1.5,2,2.5], fontsize=15)\n",
    "plt.xlabel(r'$x_1$', fontsize=15)\n",
    "plt.ylabel(r'$x_2$', fontsize=15)\n",
    "plt.savefig('eig2.pdf', bbox_inches = 'tight')\n",
    "\n",
    "plt.figure(2)\n",
    "im = plt.contourf(X_test,Y_test,phi2, levels=np.linspace(-20,-2,20),cmap=\"coolwarm\")\n",
    "cbar = plt.colorbar(im, ticks=[-15,-10,-5])\n",
    "cbar.ax.tick_params(labelsize=15)\n",
    "plt.xticks([1.5,2,2.5], fontsize=15)\n",
    "plt.yticks([1.5,2,2.5], fontsize=15)\n",
    "plt.xlabel(r'$x_1$', fontsize=15)\n",
    "plt.ylabel(r'$x_2$', fontsize=15)\n",
    "plt.savefig('eig2_true.pdf', bbox_inches = 'tight')\n",
    "\n",
    "plt.figure(3)\n",
    "im = plt.contourf(X_test,Y_test,abs(phi2 - phi2_hat),cmap=\"coolwarm\")\n",
    "cbar = plt.colorbar(im,ticks=[0.0002,0.0003])\n",
    "cbar.ax.tick_params(labelsize=15)\n",
    "cbar.formatter.set_powerlimits((0, 0))\n",
    "plt.xticks([1.5,2,2.5], fontsize=15)\n",
    "plt.yticks([1.5,2,2.5], fontsize=15)\n",
    "plt.xlabel(r'$x_1$', fontsize=15)\n",
    "plt.ylabel(r'$x_2$', fontsize=15)\n",
    "plt.savefig('eig2_error.pdf', bbox_inches = 'tight')"
   ]
  },
  {
   "cell_type": "code",
   "execution_count": 42,
   "metadata": {},
   "outputs": [
    {
     "name": "stdout",
     "output_type": "stream",
     "text": [
      "0.02 seconds\n"
     ]
    }
   ],
   "source": [
    "# computational time\n",
    "print(f'{end2-start2+end1-start1:.2f} seconds')"
   ]
  }
 ],
 "metadata": {
  "kernelspec": {
   "display_name": "Python 3",
   "language": "python",
   "name": "python3"
  },
  "language_info": {
   "codemirror_mode": {
    "name": "ipython",
    "version": 3
   },
   "file_extension": ".py",
   "mimetype": "text/x-python",
   "name": "python",
   "nbconvert_exporter": "python",
   "pygments_lexer": "ipython3",
   "version": "3.7.6"
  }
 },
 "nbformat": 4,
 "nbformat_minor": 4
}
